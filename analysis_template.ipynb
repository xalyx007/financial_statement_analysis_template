{
 "cells": [
  {
   "cell_type": "markdown",
   "id": "232fbe1b-5dd6-4cbb-b57a-94c650602d36",
   "metadata": {},
   "source": [
    "# Financial Data Analysis and Google Sheets Integration\n",
    "\n",
    "In this notebook, we'll fetch financial data for Microsoft (MSFT) from Yahoo Finance and upload it to Google Sheets.\n",
    "\n",
    "## 1. Import Required Libraries\n"
   ]
  },
  {
   "cell_type": "code",
   "execution_count": 26,
   "id": "3764884a-e468-4375-b5fe-1596d1c1d84f",
   "metadata": {},
   "outputs": [],
   "source": [
    "import yfinance as yf\n",
    "from financial_data import read_income_stmt, read_cashflow, read_balance_sheet, authenticate_google_sheets, dump_to_sheet"
   ]
  },
  {
   "cell_type": "code",
   "execution_count": 27,
   "id": "8c845859-f229-4b9a-85f7-8b6684956ec7",
   "metadata": {},
   "outputs": [
    {
     "name": "stdout",
     "output_type": "stream",
     "text": [
      "Income Statement Data\n"
     ]
    },
    {
     "data": {
      "text/html": [
       "<div>\n",
       "<style scoped>\n",
       "    .dataframe tbody tr th:only-of-type {\n",
       "        vertical-align: middle;\n",
       "    }\n",
       "\n",
       "    .dataframe tbody tr th {\n",
       "        vertical-align: top;\n",
       "    }\n",
       "\n",
       "    .dataframe thead th {\n",
       "        text-align: right;\n",
       "    }\n",
       "</style>\n",
       "<table border=\"1\" class=\"dataframe\">\n",
       "  <thead>\n",
       "    <tr style=\"text-align: right;\">\n",
       "      <th></th>\n",
       "      <th>2020-06-30</th>\n",
       "      <th>2021-06-30</th>\n",
       "      <th>2022-06-30</th>\n",
       "      <th>2023-06-30</th>\n",
       "    </tr>\n",
       "  </thead>\n",
       "  <tbody>\n",
       "    <tr>\n",
       "      <th>Total Revenue</th>\n",
       "      <td>143015.0</td>\n",
       "      <td>168088.0</td>\n",
       "      <td>198270.0</td>\n",
       "      <td>211915.0</td>\n",
       "    </tr>\n",
       "    <tr>\n",
       "      <th>EBITDA</th>\n",
       "      <td>68423.0</td>\n",
       "      <td>85134.0</td>\n",
       "      <td>100239.0</td>\n",
       "      <td>105140.0</td>\n",
       "    </tr>\n",
       "    <tr>\n",
       "      <th>Depreciation And Amortization</th>\n",
       "      <td>12796.0</td>\n",
       "      <td>11686.0</td>\n",
       "      <td>14460.0</td>\n",
       "      <td>13861.0</td>\n",
       "    </tr>\n",
       "    <tr>\n",
       "      <th>EBIT</th>\n",
       "      <td>55627.0</td>\n",
       "      <td>73448.0</td>\n",
       "      <td>85779.0</td>\n",
       "      <td>91279.0</td>\n",
       "    </tr>\n",
       "    <tr>\n",
       "      <th>Interest Expense</th>\n",
       "      <td>2591.0</td>\n",
       "      <td>2346.0</td>\n",
       "      <td>2063.0</td>\n",
       "      <td>1968.0</td>\n",
       "    </tr>\n",
       "    <tr>\n",
       "      <th>Interest Income</th>\n",
       "      <td>2680.0</td>\n",
       "      <td>2131.0</td>\n",
       "      <td>2094.0</td>\n",
       "      <td>2994.0</td>\n",
       "    </tr>\n",
       "    <tr>\n",
       "      <th>Tax Provision</th>\n",
       "      <td>8755.0</td>\n",
       "      <td>9831.0</td>\n",
       "      <td>10978.0</td>\n",
       "      <td>16950.0</td>\n",
       "    </tr>\n",
       "    <tr>\n",
       "      <th>Minority Interests</th>\n",
       "      <td>0.0</td>\n",
       "      <td>0.0</td>\n",
       "      <td>0.0</td>\n",
       "      <td>0.0</td>\n",
       "    </tr>\n",
       "    <tr>\n",
       "      <th>Diluted Average Shares</th>\n",
       "      <td>7683.0</td>\n",
       "      <td>7608.0</td>\n",
       "      <td>7540.0</td>\n",
       "      <td>7472.0</td>\n",
       "    </tr>\n",
       "  </tbody>\n",
       "</table>\n",
       "</div>"
      ],
      "text/plain": [
       "                               2020-06-30  2021-06-30  2022-06-30  2023-06-30\n",
       "Total Revenue                    143015.0    168088.0    198270.0    211915.0\n",
       "EBITDA                            68423.0     85134.0    100239.0    105140.0\n",
       "Depreciation And Amortization     12796.0     11686.0     14460.0     13861.0\n",
       "EBIT                              55627.0     73448.0     85779.0     91279.0\n",
       "Interest Expense                   2591.0      2346.0      2063.0      1968.0\n",
       "Interest Income                    2680.0      2131.0      2094.0      2994.0\n",
       "Tax Provision                      8755.0      9831.0     10978.0     16950.0\n",
       "Minority Interests                    0.0         0.0         0.0         0.0\n",
       "Diluted Average Shares             7683.0      7608.0      7540.0      7472.0"
      ]
     },
     "metadata": {},
     "output_type": "display_data"
    },
    {
     "name": "stdout",
     "output_type": "stream",
     "text": [
      "Cash Flows Data\n"
     ]
    },
    {
     "data": {
      "text/html": [
       "<div>\n",
       "<style scoped>\n",
       "    .dataframe tbody tr th:only-of-type {\n",
       "        vertical-align: middle;\n",
       "    }\n",
       "\n",
       "    .dataframe tbody tr th {\n",
       "        vertical-align: top;\n",
       "    }\n",
       "\n",
       "    .dataframe thead th {\n",
       "        text-align: right;\n",
       "    }\n",
       "</style>\n",
       "<table border=\"1\" class=\"dataframe\">\n",
       "  <thead>\n",
       "    <tr style=\"text-align: right;\">\n",
       "      <th></th>\n",
       "      <th>2020-06-30</th>\n",
       "      <th>2021-06-30</th>\n",
       "      <th>2022-06-30</th>\n",
       "      <th>2023-06-30</th>\n",
       "    </tr>\n",
       "  </thead>\n",
       "  <tbody>\n",
       "    <tr>\n",
       "      <th>Capital Expenditure</th>\n",
       "      <td>-15441.0</td>\n",
       "      <td>-20622.0</td>\n",
       "      <td>-23886.0</td>\n",
       "      <td>-28107.0</td>\n",
       "    </tr>\n",
       "    <tr>\n",
       "      <th>Change In Working Capital</th>\n",
       "      <td>-1483.0</td>\n",
       "      <td>-936.0</td>\n",
       "      <td>446.0</td>\n",
       "      <td>-2388.0</td>\n",
       "    </tr>\n",
       "    <tr>\n",
       "      <th>Free Cash Flow</th>\n",
       "      <td>45234.0</td>\n",
       "      <td>56118.0</td>\n",
       "      <td>65149.0</td>\n",
       "      <td>59475.0</td>\n",
       "    </tr>\n",
       "  </tbody>\n",
       "</table>\n",
       "</div>"
      ],
      "text/plain": [
       "                          2020-06-30 2021-06-30 2022-06-30 2023-06-30\n",
       "Capital Expenditure         -15441.0   -20622.0   -23886.0   -28107.0\n",
       "Change In Working Capital    -1483.0     -936.0      446.0    -2388.0\n",
       "Free Cash Flow               45234.0    56118.0    65149.0    59475.0"
      ]
     },
     "metadata": {},
     "output_type": "display_data"
    },
    {
     "name": "stdout",
     "output_type": "stream",
     "text": [
      "Balance Sheet Data\n"
     ]
    },
    {
     "data": {
      "text/html": [
       "<div>\n",
       "<style scoped>\n",
       "    .dataframe tbody tr th:only-of-type {\n",
       "        vertical-align: middle;\n",
       "    }\n",
       "\n",
       "    .dataframe tbody tr th {\n",
       "        vertical-align: top;\n",
       "    }\n",
       "\n",
       "    .dataframe thead th {\n",
       "        text-align: right;\n",
       "    }\n",
       "</style>\n",
       "<table border=\"1\" class=\"dataframe\">\n",
       "  <thead>\n",
       "    <tr style=\"text-align: right;\">\n",
       "      <th></th>\n",
       "      <th>2020-06-30</th>\n",
       "      <th>2021-06-30</th>\n",
       "      <th>2022-06-30</th>\n",
       "      <th>2023-06-30</th>\n",
       "    </tr>\n",
       "  </thead>\n",
       "  <tbody>\n",
       "    <tr>\n",
       "      <th>Cash And Cash Equivalents</th>\n",
       "      <td>13576.0</td>\n",
       "      <td>14224.0</td>\n",
       "      <td>13931.0</td>\n",
       "      <td>34704.0</td>\n",
       "    </tr>\n",
       "    <tr>\n",
       "      <th>Financial Debt</th>\n",
       "      <td>63327.0</td>\n",
       "      <td>58146.0</td>\n",
       "      <td>49781.0</td>\n",
       "      <td>47237.0</td>\n",
       "    </tr>\n",
       "    <tr>\n",
       "      <th>Capital Lease Obligations</th>\n",
       "      <td>7671.0</td>\n",
       "      <td>9629.0</td>\n",
       "      <td>11489.0</td>\n",
       "      <td>12728.0</td>\n",
       "    </tr>\n",
       "    <tr>\n",
       "      <th>Goodwill</th>\n",
       "      <td>43351.0</td>\n",
       "      <td>49711.0</td>\n",
       "      <td>67524.0</td>\n",
       "      <td>67886.0</td>\n",
       "    </tr>\n",
       "    <tr>\n",
       "      <th>Common Stock Equity</th>\n",
       "      <td>118304.0</td>\n",
       "      <td>141988.0</td>\n",
       "      <td>166542.0</td>\n",
       "      <td>206223.0</td>\n",
       "    </tr>\n",
       "    <tr>\n",
       "      <th>Total Debt</th>\n",
       "      <td>70998.0</td>\n",
       "      <td>67775.0</td>\n",
       "      <td>61270.0</td>\n",
       "      <td>59965.0</td>\n",
       "    </tr>\n",
       "  </tbody>\n",
       "</table>\n",
       "</div>"
      ],
      "text/plain": [
       "                          2020-06-30 2021-06-30 2022-06-30 2023-06-30\n",
       "Cash And Cash Equivalents    13576.0    14224.0    13931.0    34704.0\n",
       "Financial Debt               63327.0    58146.0    49781.0    47237.0\n",
       "Capital Lease Obligations     7671.0     9629.0    11489.0    12728.0\n",
       "Goodwill                     43351.0    49711.0    67524.0    67886.0\n",
       "Common Stock Equity         118304.0   141988.0   166542.0   206223.0\n",
       "Total Debt                   70998.0    67775.0    61270.0    59965.0"
      ]
     },
     "metadata": {},
     "output_type": "display_data"
    }
   ],
   "source": [
    "# Create a Ticker object for Microsoft\n",
    "tikr = yf.Ticker(\"MSFT\")\n",
    "\n",
    "# Fetch financial data\n",
    "income_statement = read_income_stmt(tikr)\n",
    "cash_flows = read_cashflow(tikr)\n",
    "balance_sheet = read_balance_sheet(tikr)\n",
    "\n",
    "# Display the fetched data\n",
    "print('Income Statement Data')\n",
    "display(income_statement)\n",
    "print('Cash Flows Data')\n",
    "display(cash_flows)\n",
    "print('Balance Sheet Data')\n",
    "display(balance_sheet)"
   ]
  },
  {
   "cell_type": "markdown",
   "id": "9fe0e4e3-b59b-45ae-8a07-6f976e8caa0a",
   "metadata": {},
   "source": [
    "## 2. Fetch Financial Data\n",
    "We'll start by fetching the income statement, cash flow, and balance sheet data for Microsoft."
   ]
  },
  {
   "cell_type": "markdown",
   "id": "c94d6a06-feb5-45bc-98d8-9d90d72d8588",
   "metadata": {},
   "source": [
    "## 3. Setup Google Sheets API\n",
    "You need to authenticate with Google Sheets API using your credentials. Make sure you have the credentials.json file generated and saved as described in the GOOGLE_SHEETS_SETUP.md file."
   ]
  },
  {
   "cell_type": "code",
   "execution_count": 28,
   "id": "91bd5e96-c99e-4f92-b707-d88b5614de7d",
   "metadata": {},
   "outputs": [],
   "source": [
    "# Setup connection with Google Sheets API\n",
    "credentials_path = '../credentials/financial-analysis-410603-6b1649768d4e.json'\n",
    "client = authenticate_google_sheets(credentials_path)"
   ]
  },
  {
   "cell_type": "markdown",
   "id": "745abfc9-8030-4914-a4af-b0a138fdfd69",
   "metadata": {},
   "source": [
    "## 4. Open Google Spreadsheet\n",
    "Provide the spreadsheet ID from your Google Sheets URL. Replace it with your actual spreadsheet ID."
   ]
  },
  {
   "cell_type": "code",
   "execution_count": 29,
   "id": "81a0629e-7391-46ce-9742-b0ef8daac8ea",
   "metadata": {},
   "outputs": [],
   "source": [
    "# The spreadsheet ID you copied from the URL of your spreadsheet\n",
    "spreadsheet_id = '1zt2BuaotZX2RQPJCkqK7iA2Uhh8grUHIYGR5jBb3ilQ'\n",
    "\n",
    "# Open the spreadsheet by ID\n",
    "spreadsheet = client.open_by_key(spreadsheet_id)"
   ]
  },
  {
   "cell_type": "markdown",
   "id": "695d19e1-ce39-425d-9f61-060c60b6baa4",
   "metadata": {},
   "source": [
    "## 5. Define Worksheets\n",
    "Specify which worksheets you want to interact with. Replace these with your actual worksheet names."
   ]
  },
  {
   "cell_type": "code",
   "execution_count": 30,
   "id": "ccc65105-66ab-446b-aac7-468ef8ec18ac",
   "metadata": {},
   "outputs": [],
   "source": [
    "# Define each sheet\n",
    "income_sheet    = spreadsheet.worksheet(\"1.Income statement\")\n",
    "cashflows_sheet = spreadsheet.worksheet(\"2.Flujos de caja\")\n",
    "balance_sheet   = spreadsheet.worksheet(\"3.Retornos capital\")"
   ]
  },
  {
   "cell_type": "markdown",
   "id": "073336f7-c8f5-491f-beab-9343fb0567ba",
   "metadata": {},
   "source": [
    "## 6. Dump Data to Google Sheets\n",
    "Specify the target rows and columns where the data should be dumped."
   ]
  },
  {
   "cell_type": "code",
   "execution_count": 31,
   "id": "94247e66-f26b-402d-a5b1-350221828383",
   "metadata": {},
   "outputs": [],
   "source": [
    "# Target rows in the Google Sheet (1-based indexing)\n",
    "target_rows = [10, 13, 15, 16, 18, 19, 22, 25, 29]\n",
    "\n",
    "# Column range to extract (3rd to 7th column, 0-based index)\n",
    "column_range = (3, 7)\n",
    "\n",
    "# Example of dumping data\n",
    "dump_to_sheet(income_statement, column_range, target_rows, income_sheet)"
   ]
  },
  {
   "cell_type": "markdown",
   "id": "e2158899-8a19-4e23-aeea-c2fe2705e29b",
   "metadata": {},
   "source": [
    "# Notes\n",
    "1. Dependencies: Ensure all required libraries (yfinance, gspread, oauth2client, pandas) are installed in your environment.\n",
    "2. Credentials: Make sure your credentials.json file is correctly set up and placed in the specified path.\n",
    "3. Spreadsheet and Worksheet Names: Update the spreadsheet_id and worksheet names according to your specific Google Sheets setup.\n",
    "\n",
    "This template provides a comprehensive walkthrough from fetching financial data to uploading it to Google Sheets. Adjust the paths, IDs, and worksheet names as needed for your specific use case."
   ]
  }
 ],
 "metadata": {
  "kernelspec": {
   "display_name": "Python 3 (ipykernel)",
   "language": "python",
   "name": "python3"
  },
  "language_info": {
   "codemirror_mode": {
    "name": "ipython",
    "version": 3
   },
   "file_extension": ".py",
   "mimetype": "text/x-python",
   "name": "python",
   "nbconvert_exporter": "python",
   "pygments_lexer": "ipython3",
   "version": "3.12.4"
  }
 },
 "nbformat": 4,
 "nbformat_minor": 5
}
